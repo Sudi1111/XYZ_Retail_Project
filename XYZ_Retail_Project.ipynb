{
 "cells": [
  {
   "cell_type": "code",
   "execution_count": 37,
   "id": "20aac9b3-b90c-400c-835e-216551bf71cb",
   "metadata": {},
   "outputs": [
    {
     "name": "stdout",
     "output_type": "stream",
     "text": [
      "Sales Data Summary:\n",
      "Category A Units Sold: 120\n",
      "Category B Units Sold: 80\n",
      "Total Units Sold: 200\n",
      "Difference in Units Sold: 40\n",
      "Ratio of Units Sold (A:B): 1.5\n"
     ]
    }
   ],
   "source": [
    "#### Task 1: Sales Data Summary ####\n",
    "\n",
    "# Step 1: Assign units sold for the two categories\n",
    "category_A_units = 120  # Example: Replace with actual value\n",
    "category_B_units = 80   # Example: Replace with actual value\n",
    "\n",
    "# Step 2: Calculate metrics\n",
    "total_units_sold = category_a_units + category_b_units\n",
    "difference_in_units = abs(category_a_units - category_b_units)  # Absolute difference\n",
    "if category_b_units != 0:\n",
    "    ratio_of_units = category_a_units / category_b_units  # Avoid division by zero\n",
    "else:\n",
    "    ratio_of_units = \"Undefined (Division by zero)\"\n",
    "\n",
    "# Step 3: Display results\n",
    "print(\"Sales Data Summary:\")\n",
    "print(f\"Category A Units Sold: {category_a_units}\")\n",
    "print(f\"Category B Units Sold: {category_b_units}\")\n",
    "print(f\"Total Units Sold: {total_units_sold}\")\n",
    "print(f\"Difference in Units Sold: {difference_in_units}\")\n",
    "print(f\"Ratio of Units Sold (A:B): {ratio_of_units}\")\n"
   ]
  },
  {
   "cell_type": "code",
   "execution_count": 39,
   "id": "8a6e7942-3824-4f18-9ee5-bb0a9bd99d0e",
   "metadata": {},
   "outputs": [
    {
     "name": "stdout",
     "output_type": "stream",
     "text": [
      "Dear John Doe, at 30, you’re eligible for our premium loyalty program.\n"
     ]
    }
   ],
   "source": [
    "### Task 2: Customer Age Data ###\n",
    "\n",
    "# Step 1: Store the customer's name and age\n",
    "customer_name = \"John Doe\"  # Replace with actual customer name\n",
    "customer_age = 30           # Replace with actual customer age\n",
    "\n",
    "# Step 2: Convert age to a string and create a personalized message\n",
    "personalized_message = (\n",
    "    f\"Dear {customer_name}, at {customer_age}, \"\n",
    "    \"you’re eligible for our premium loyalty program.\"\n",
    ")\n",
    "\n",
    "# Step 3: Print the message\n",
    "print(personalized_message)\n",
    "\n"
   ]
  },
  {
   "cell_type": "code",
   "execution_count": 48,
   "id": "86eafadc-46e6-47d2-97ff-b737a7d26151",
   "metadata": {},
   "outputs": [
    {
     "name": "stdout",
     "output_type": "stream",
     "text": [
      "Dear John Doe, at 30, you’re eligible for our premium loyalty program.\n",
      "Dear Suresh Soman, at 25, you’re eligible for our premium loyalty program.\n",
      "Dear James Bond, at 40, you’re eligible for our premium loyalty program.\n"
     ]
    }
   ],
   "source": [
    "### Task 2: Customer Age Data ###\n",
    "\n",
    "# List of customers with their names and ages\n",
    "customers = [\n",
    "    {\"name\": \"John Doe\", \"age\": 30},\n",
    "    {\"name\": \"Suresh Soman\", \"age\": 25},\n",
    "    {\"name\": \"James Bond\", \"age\": 40}\n",
    "]\n",
    "\n",
    "# Generate messages for all customers\n",
    "for customer in customers:\n",
    "    name = customer[\"name\"]\n",
    "    age = customer[\"age\"]\n",
    "    message = f\"Dear {name}, at {age}, you’re eligible for our premium loyalty program.\"\n",
    "    print(message)\n"
   ]
  },
  {
   "cell_type": "code",
   "execution_count": 3,
   "id": "905f3d7e-0ab5-4d49-b817-eeeb6cf1dd6a",
   "metadata": {},
   "outputs": [
    {
     "name": "stdout",
     "output_type": "stream",
     "text": [
      "Highest Price: $200.00\n",
      "Lowest Price: $22.00\n",
      "Mid-Range Products: [99.99, 49.99, 75.5, 150.0, 125.0, 85.0, 65.0, 48.0, 145.0]\n",
      "Updated Product List: [99.99, 49.99, 75.5, 150.0, 200.0, 125.0, 85.0, 65.0, 22.0, 48.0, 145.0, 250.0]\n"
     ]
    }
   ],
   "source": [
    "# Task 3: Product List Management\n",
    "\n",
    "# Initial list of product prices\n",
    "product_prices = [99.99, 49.99, 75.50, 150.00, 200.00, 125.00, 85.00, 65.00, 22.00, 48.00, 145.00]\n",
    "\n",
    "# 1. Extract the highest and lowest prices\n",
    "highest_price = max(product_prices)\n",
    "lowest_price = min(product_prices)\n",
    "\n",
    "print(f\"Highest Price: ${highest_price:.2f}\")\n",
    "print(f\"Lowest Price: ${lowest_price:.2f}\")\n",
    "\n",
    "# 2. Create a new list with mid-range products (excluding the highest and lowest)\n",
    "mid_range_products = [price for price in product_prices if price != highest_price and price != lowest_price]\n",
    "\n",
    "print(f\"Mid-Range Products: {mid_range_products}\")\n",
    "\n",
    "# 3. Add a new premium product price to the list\n",
    "new_premium_price = 250.00\n",
    "product_prices.append(new_premium_price)\n",
    "\n",
    "print(f\"Updated Product List: {product_prices}\")\n"
   ]
  },
  {
   "cell_type": "code",
   "execution_count": 7,
   "id": "169b6332-61fc-4418-a47c-5d93195fece7",
   "metadata": {},
   "outputs": [
    {
     "name": "stdout",
     "output_type": "stream",
     "text": [
      "Product Name: Wireless Headphones\n",
      "SKU: XYZ-2024\n"
     ]
    }
   ],
   "source": [
    "# Task 4: Inventory Lookup\n",
    "\n",
    "# Step 1: Create a dictionary storing product details\n",
    "product_info = {\n",
    "    \"product_name\": \"Wireless Headphones\",\n",
    "    \"SKU\": \"XYZ-2024\",\n",
    "    \"price\": 129.99,\n",
    "    \"category\": \"Electronics\"\n",
    "}\n",
    "\n",
    "# Step 2: Function to query product name and SKU\n",
    "def lookup_product(product_details):\n",
    "    product_name = product_details.get(\"product_name\", \"Unknown\")\n",
    "    sku = product_details.get(\"SKU\", \"Unknown\")\n",
    "    return product_name, sku\n",
    "\n",
    "# Query by customer service representative\n",
    "product_name, sku = lookup_product(product_info)\n",
    "\n",
    "# Step 3: Print the product name and SKU\n",
    "print(f\"Product Name: {product_name}\")\n",
    "print(f\"SKU: {sku}\")\n"
   ]
  },
  {
   "cell_type": "code",
   "execution_count": 11,
   "id": "67e564f1-fcab-4499-b6ca-957f11578fe9",
   "metadata": {},
   "outputs": [
    {
     "name": "stdin",
     "output_type": "stream",
     "text": [
      "Enter the current stock level:  15\n"
     ]
    },
    {
     "name": "stdout",
     "output_type": "stream",
     "text": [
      "Stock is sufficient.\n"
     ]
    }
   ],
   "source": [
    "# Task 5: Stock Level Alert System\n",
    "\n",
    "# Define the threshold for stock levels\n",
    "stock_threshold = 10\n",
    "\n",
    "# Function to check stock level and print alerts\n",
    "def check_stock_level(stock_level):\n",
    "    if stock_level < stock_threshold:\n",
    "        print(\"Reorder Now: Stock level is critically low!\")\n",
    "    else:\n",
    "        print(\"Stock is sufficient.\")\n",
    "\n",
    "# Example: Take stock level as input\n",
    "try:\n",
    "    stock_level = int(input(\"Enter the current stock level: \"))\n",
    "    check_stock_level(stock_level)\n",
    "except ValueError:\n",
    "    print(\"Invalid input! Please enter a numeric value.\")\n"
   ]
  },
  {
   "cell_type": "code",
   "execution_count": 7,
   "id": "fcf46c31-476b-4db2-9e71-c11b338ac4ba",
   "metadata": {},
   "outputs": [
    {
     "name": "stdout",
     "output_type": "stream",
     "text": [
      "Formatted Sales Report: \n",
      "LAPTOP\n",
      "SMARTPHONE\n",
      "HEADPHONES\n",
      "TABLET\n",
      "SMARTWATCH\n",
      "\n",
      "Formatted Sales Report: \n",
      "LAPTOP\n",
      "SMARTPHONE\n",
      "HEADPHONES\n",
      "TABLET\n",
      "SMARTWATCH\n"
     ]
    }
   ],
   "source": [
    "# Task 6: Task 6: Sales Report Formatting\n",
    "\n",
    "# Using For Loop Function\n",
    "products_sold = [\"laptop\", \"smartphone\", \"headphones\", \"tablet\", \"smartwatch\"]\n",
    "print(\"Formatted Sales Report: \")\n",
    "for product in products_sold:\n",
    "    print(product.upper())\n",
    "\n",
    "# Using For While Function\n",
    "print(\"\\nFormatted Sales Report: \")\n",
    "index = 0\n",
    "while index < len(products_sold):\n",
    "    print(products_sold[index].upper())\n",
    "    index += 1\n"
   ]
  },
  {
   "cell_type": "code",
   "execution_count": 14,
   "id": "e3d8610d-2732-4458-8699-82d81ccdd57a",
   "metadata": {},
   "outputs": [
    {
     "name": "stdout",
     "output_type": "stream",
     "text": [
      "The area of the Electronics Section is 300 square units.\n",
      "The area of the Clothing Section is 450 square units.\n",
      "The area of the Grocery Section is 660 square units.\n",
      "The area of the Toys Section is 180 square units.\n"
     ]
    }
   ],
   "source": [
    "# Task 7: Define a function to calculate the area of a store section\n",
    "\n",
    "def calculate_area(length, width): #This function calculates the area of a rectangular section of the store.\n",
    "    \"\"\"\n",
    "    :param length: Length of the section (float or int)\n",
    "    :param width: Width of the section (float or int)\n",
    "    :return: Area of the section (float or int)\n",
    "    \"\"\"\n",
    "    return length * width\n",
    "\n",
    "# Example store sections with their dimensions (length and width)\n",
    "store_sections = [\n",
    "    {\"name\": \"Electronics Section\", \"length\": 20, \"width\": 15},\n",
    "    {\"name\": \"Clothing Section\", \"length\": 25, \"width\": 18},\n",
    "    {\"name\": \"Grocery Section\", \"length\": 30, \"width\": 22},\n",
    "    {\"name\": \"Toys Section\", \"length\": 15, \"width\": 12},\n",
    "]\n",
    "\n",
    "for section in store_sections:\n",
    "    name = section[\"name\"]\n",
    "    length = section[\"length\"]\n",
    "    width = section[\"width\"]\n",
    "    \n",
    "    # Calculate the area using the calculate_area function\n",
    "    area = calculate_area(length, width)\n",
    "    \n",
    "    print(f\"The area of the {name} is {area} square units.\")\n"
   ]
  },
  {
   "cell_type": "code",
   "execution_count": 16,
   "id": "2efcacfd-a7f0-4676-8aa2-38f85a69ce45",
   "metadata": {},
   "outputs": [
    {
     "name": "stdout",
     "output_type": "stream",
     "text": [
      "Original Feedback: The service was excellent and the staff were friendly.\n",
      "Number of Vowels: 15\n",
      "Reversed Feedback: .yldneirf erew ffats eht dna tnellecxe saw ecivres ehT\n"
     ]
    }
   ],
   "source": [
    "# Task 8: Customer Feedback Analysis\n",
    "\n",
    "# Define a function to count vowels in a feedback message\n",
    "def count_vowels(feedback): #This function counts the number of vowels (a, e, i, o, u) in the given feedback.\n",
    "    \"\"\"\n",
    "    :param feedback: A string containing the customer feedback\n",
    "    :return: The count of vowels in the feedback\n",
    "    \"\"\"\n",
    "    # Define a set of vowels\n",
    "    vowels = \"aeiouAEIOU\"\n",
    "    \n",
    "    # Initialize a counter for vowels\n",
    "    vowel_count = 0\n",
    "    \n",
    "    # Iterate through each character in the feedback\n",
    "    for char in feedback:\n",
    "        # Check if the character is a vowel\n",
    "        if char in vowels:\n",
    "            vowel_count += 1  # Increment the counter if it's a vowel\n",
    "    \n",
    "    return vowel_count  # Return the total vowel count\n",
    "\n",
    "# Define a function to reverse the feedback message\n",
    "def reverse_feedback(feedback): #This function reverses the given feedback string.\n",
    "    \"\"\"\n",
    "    :param feedback: A string containing the customer feedback\n",
    "    :return: The reversed feedback string\n",
    "    \"\"\"\n",
    "    return feedback[::-1]  # Use slicing to reverse the string\n",
    "\n",
    "# Example customer feedback\n",
    "customer_feedback = \"The service was excellent and the staff were friendly.\"\n",
    "\n",
    "# Count the number of vowels in the feedback\n",
    "vowel_count = count_vowels(customer_feedback)\n",
    "\n",
    "# Reverse the feedback message\n",
    "reversed_feedback = reverse_feedback(customer_feedback)\n",
    "\n",
    "# Print the results\n",
    "print(f\"Original Feedback: {customer_feedback}\")  # Display the original feedback\n",
    "print(f\"Number of Vowels: {vowel_count}\")  # Display the number of vowels\n",
    "print(f\"Reversed Feedback: {reversed_feedback}\")  # Display the reversed feedback\n",
    "\n",
    "\n"
   ]
  },
  {
   "cell_type": "code",
   "execution_count": 18,
   "id": "e0183e0d-4523-4823-a3e4-449906a82d87",
   "metadata": {},
   "outputs": [
    {
     "name": "stdout",
     "output_type": "stream",
     "text": [
      "Price Threshold: 600\n",
      "Eligible Products for Discount: ['Headphones', 'Smartwatch', 'Tablet']\n"
     ]
    }
   ],
   "source": [
    "# Task 9: Price Filtering Tool\n",
    "\n",
    "# Define a function to filter products based on a price threshold\n",
    "def filter_prices(products, price_threshold): #This function filters products priced below a given threshold.\n",
    "    \"\"\"\n",
    "    :param products: A list of dictionaries containing product names and prices\n",
    "    :param price_threshold: The minimum price threshold for eligibility\n",
    "    :return: A list of product names eligible for the discount\n",
    "    \"\"\"\n",
    "    # Use list comprehension to filter products based on the price threshold\n",
    "    eligible_products = [product[\"name\"] for product in products if product[\"price\"] < price_threshold]\n",
    "    return eligible_products\n",
    "\n",
    "# Example list of products with their prices\n",
    "product_list = [\n",
    "    {\"name\": \"Laptop\", \"price\": 1200},\n",
    "    {\"name\": \"Smartphone\", \"price\": 800},\n",
    "    {\"name\": \"Headphones\", \"price\": 150},\n",
    "    {\"name\": \"Smartwatch\", \"price\": 250},\n",
    "    {\"name\": \"Tablet\", \"price\": 500}\n",
    "]\n",
    "\n",
    "# Define the price threshold for the discount campaign\n",
    "price_threshold = 600\n",
    "\n",
    "# Get the list of products eligible for the discount campaign\n",
    "discounted_products = filter_prices(product_list, price_threshold)\n",
    "\n",
    "# Print the results\n",
    "print(f\"Price Threshold: {price_threshold}\")  # Display the price threshold\n",
    "print(f\"Eligible Products for Discount: {discounted_products}\")  # Display the eligible products\n"
   ]
  },
  {
   "cell_type": "code",
   "execution_count": 20,
   "id": "7a897d92-7345-4f3d-ae3b-9180eadd3ac8",
   "metadata": {},
   "outputs": [
    {
     "name": "stdout",
     "output_type": "stream",
     "text": [
      "Sales Log Content:\n",
      "Total sales for the day: $12,500\n",
      "Number of transactions: 320\n",
      "Highest sale of the day: $1,200 by Product X\n"
     ]
    }
   ],
   "source": [
    "#Task 10: Sales Log File Management\n",
    "\n",
    "# Step 1: Create and write to the sales log file\n",
    "def write_sales_log(file_name, sales_summary): #This function writes daily sales summaries to a log file.\n",
    "    \"\"\"\n",
    "    :param file_name: Name of the file to write to\n",
    "    :param sales_summary: A list of strings, each summarizing daily sales performance\n",
    "    \"\"\"\n",
    "    with open(file_name, \"w\") as file:\n",
    "        # Write each sales summary line to the file\n",
    "        for line in sales_summary:\n",
    "            file.write(line + \"\\n\")  # Add a newline character after each line\n",
    "\n",
    "# Step 2: Read and print the content of the sales log file\n",
    "def read_sales_log(file_name): #This function reads and prints the content of a sales log file.\n",
    "    \"\"\"\n",
    "    :param file_name: Name of the file to read from\n",
    "    \"\"\"\n",
    "    with open(file_name, \"r\") as file:\n",
    "        # Read all lines from the file\n",
    "        content = file.readlines()\n",
    "        # Print each line to ensure data integrity\n",
    "        for line in content:\n",
    "            print(line.strip())  # Strip removes extra whitespace/newline characters\n",
    "\n",
    "# File name for the sales log\n",
    "sales_log_file = \"sales_log.txt\"\n",
    "\n",
    "# Example daily sales summaries\n",
    "daily_sales_summary = [\n",
    "    \"Total sales for the day: $12,500\",\n",
    "    \"Number of transactions: 320\",\n",
    "    \"Highest sale of the day: $1,200 by Product X\"\n",
    "]\n",
    "\n",
    "# Write the sales summaries to the log file\n",
    "write_sales_log(sales_log_file, daily_sales_summary)\n",
    "\n",
    "# Read and verify the content of the sales log file\n",
    "print(\"Sales Log Content:\")\n",
    "read_sales_log(sales_log_file)\n"
   ]
  },
  {
   "cell_type": "code",
   "execution_count": 22,
   "id": "734b3b25-d74c-4700-9322-51722d78995b",
   "metadata": {},
   "outputs": [
    {
     "name": "stdout",
     "output_type": "stream",
     "text": [
      "Weekly Sales Figures: [1250, 1300, 1500, 1100, 1350, 1400, 1450]\n",
      "Average Daily Sales: $1335.71\n"
     ]
    }
   ],
   "source": [
    "# Task 11: Daily Sales Average\n",
    "\n",
    "# Step 1: Define a function to calculate the average sales\n",
    "def calculate_average_sales(sales_figures): #This function calculates the average daily sales from a list of sales figures.\n",
    "    \"\"\"\n",
    "    :param sales_figures: A list of daily sales figures (float or int)\n",
    "    :return: The average sales (float)\n",
    "    \"\"\"\n",
    "    \n",
    "    total_sales = sum(sales_figures) # Calculate the total sales\n",
    "    \n",
    "    number_of_days = len(sales_figures) # Calculate the number of days (length of the sales list)\n",
    "    \n",
    "    average_sales = total_sales / number_of_days # Calculate the average sales\n",
    "    return average_sales\n",
    "\n",
    "# Step 2: List of sales figures for the past 7 days\n",
    "weekly_sales = [1250, 1300, 1500, 1100, 1350, 1400, 1450]\n",
    "\n",
    "# Step 3: Calculate the average daily sales\n",
    "average_sales = calculate_average_sales(weekly_sales)\n",
    "\n",
    "# Step 4: Print the average sales\n",
    "print(\"Weekly Sales Figures:\", weekly_sales)  # Display the sales figures for reference\n",
    "print(f\"Average Daily Sales: ${average_sales:.2f}\")  # Display the average sales rounded to 2 decimal places\n"
   ]
  },
  {
   "cell_type": "code",
   "execution_count": 24,
   "id": "aa3e5f7a-4689-4804-87ea-aaf9d2aefe52",
   "metadata": {},
   "outputs": [
    {
     "name": "stdout",
     "output_type": "stream",
     "text": [
      "Customer Segmentation Results:\n",
      "Spending: $300, Category: Low\n",
      "Spending: $1200, Category: Medium\n",
      "Spending: $700, Category: Medium\n",
      "Spending: $450, Category: Low\n",
      "Spending: $2000, Category: High\n",
      "Spending: $900, Category: Medium\n",
      "Spending: $150, Category: Low\n"
     ]
    }
   ],
   "source": [
    "# Task 12: Customer Segmentation\n",
    "\n",
    "# Step 1: Define a function to categorize spending\n",
    "def categorize_spending(spending): #This function categorizes a customer's spending as Low, Medium, or High.\n",
    "    \"\"\"\n",
    "    :param spending: The total spending amount (float or int)\n",
    "    :return: A string indicating the spending category\n",
    "    \"\"\"\n",
    "    if spending < 500:\n",
    "        return \"Low\"\n",
    "    elif 500 <= spending < 1500:\n",
    "        return \"Medium\"\n",
    "    else:\n",
    "        return \"High\"\n",
    "\n",
    "# Step 2: List of customer spending amounts\n",
    "customer_spending = [300, 1200, 700, 450, 2000, 900, 150]\n",
    "\n",
    "# Step 3: Categorize each customer based on spending\n",
    "categorized_customers = []\n",
    "for spending in customer_spending:\n",
    "    category = categorize_spending(spending)  # Get the spending category\n",
    "    categorized_customers.append({\"Spending\": spending, \"Category\": category})  # Store the result in a list\n",
    "\n",
    "# Step 4: Print the categorized results\n",
    "print(\"Customer Segmentation Results:\")\n",
    "for customer in categorized_customers:\n",
    "    print(f\"Spending: ${customer['Spending']}, Category: {customer['Category']}\")\n"
   ]
  },
  {
   "cell_type": "code",
   "execution_count": 28,
   "id": "491002fe-3f1a-4cd5-8426-56324950fc7e",
   "metadata": {},
   "outputs": [
    {
     "name": "stdout",
     "output_type": "stream",
     "text": [
      "Discounted Prices:\n",
      "Product: Laptop, Final Price: $1080.00\n",
      "Product: Smartphone, Final Price: $680.00\n",
      "Product: Headphones, Final Price: $142.50\n",
      "Product: Smartwatch, Final Price: $200.00\n",
      "Product: Tablet, Final Price: $440.00\n"
     ]
    }
   ],
   "source": [
    "# Task 13: Discount Calculation\n",
    "\n",
    "# Step 1: Define a function to calculate the final price after applying a discount\n",
    "def calculate_discounted_price(original_price, discount_percentage): # This function calculates the final price of a product after applying a discount.\n",
    "    \"\"\"\n",
    "    :param original_price: The original price of the product (float or int)\n",
    "    :param discount_percentage: The discount percentage to be applied (float or int)\n",
    "    :return: The final price after applying the discount (float)\n",
    "    \"\"\"\n",
    "    \n",
    "    discount_amount = (original_price * discount_percentage) / 100 # Calculate the discount amount\n",
    "    \n",
    "    final_price = original_price - discount_amount # Subtract the discount amount from the original price to get the final price\n",
    "    return final_price\n",
    "\n",
    "# Step 2: List of products with their original prices and discounts\n",
    "products = [\n",
    "    {\"name\": \"Laptop\", \"original_price\": 1200, \"discount_percentage\": 10},\n",
    "    {\"name\": \"Smartphone\", \"original_price\": 800, \"discount_percentage\": 15},\n",
    "    {\"name\": \"Headphones\", \"original_price\": 150, \"discount_percentage\": 5},\n",
    "    {\"name\": \"Smartwatch\", \"original_price\": 250, \"discount_percentage\": 20},\n",
    "    {\"name\": \"Tablet\", \"original_price\": 500, \"discount_percentage\": 12}\n",
    "]\n",
    "\n",
    "# Step 3: Calculate the final prices for all products\n",
    "final_prices = []\n",
    "for product in products:\n",
    "    \n",
    "    final_price = calculate_discounted_price(product[\"original_price\"], product[\"discount_percentage\"]) # Calculate the discounted price for each product\n",
    "    \n",
    "    final_prices.append({\"name\": product[\"name\"], \"final_price\": final_price}) # Store the results in a list along with product details\n",
    "\n",
    "# Step 4: Print the results\n",
    "print(\"Discounted Prices:\")\n",
    "for item in final_prices:\n",
    "    print(f\"Product: {item['name']}, Final Price: ${item['final_price']:.2f}\")\n"
   ]
  },
  {
   "cell_type": "code",
   "execution_count": 36,
   "id": "d620216b-7f13-4da1-9761-db21caf2ca5c",
   "metadata": {},
   "outputs": [
    {
     "name": "stdout",
     "output_type": "stream",
     "text": [
      "Customer Feedback Sentiment: Positive\n"
     ]
    }
   ],
   "source": [
    "# Task 14: Customer Feedback Sentiment Analysis\n",
    "\n",
    "# Step 1: Define a function to analyze sentiment based on keywords\n",
    "def analyze_sentiment(feedback): #This function checks the customer feedback for positive or negative words.\n",
    "    \"\"\"\n",
    "    :param feedback: A string containing the customer feedback\n",
    "    :return: A string indicating whether the feedback is 'Positive' or 'Negative'\n",
    "    \"\"\"\n",
    "    \n",
    "    # Define lists of positive and negative words\n",
    "    positive_words = [\"good\", \"happy\", \"excellent\", \"great\", \"satisfied\"]\n",
    "    negative_words = [\"bad\", \"disappointed\", \"poor\", \"angry\", \"unhappy\"]\n",
    "    \n",
    "    feedback = feedback.lower() # Convert feedback to lowercase to make the comparison case-insensitive\n",
    " \n",
    "    # Check if any positive or negative word is in the feedback\n",
    "    for word in positive_words:\n",
    "        if word in feedback:\n",
    "            return \"Positive\"  # If any positive word is found, return \"Positive\"\n",
    "    \n",
    "    for word in negative_words:\n",
    "        if word in feedback:\n",
    "            return \"Negative\"  # If any negative word is found, return \"Negative\"\n",
    "    \n",
    "    return \"Neutral\"  # If no positive or negative words are found, return \"Neutral\"\n",
    "\n",
    "# Step 2: Example customer feedback\n",
    "customer_feedback = \"I am very happy with the service, it was great!\"\n",
    "\n",
    "# Step 3: Analyze the sentiment of the feedback\n",
    "sentiment = analyze_sentiment(customer_feedback)\n",
    "\n",
    "# Step 4: Print the sentiment result\n",
    "print(f\"Customer Feedback Sentiment: {sentiment}\")\n"
   ]
  },
  {
   "cell_type": "code",
   "execution_count": 38,
   "id": "fc113c56-f6ad-4d8a-bbcf-be45eb324468",
   "metadata": {},
   "outputs": [
    {
     "name": "stdout",
     "output_type": "stream",
     "text": [
      "Employee: Alice, Original Salary: $50000, Rating: 5, Updated Salary: $60000.00\n",
      "Employee: Bob, Original Salary: $40000, Rating: 3, Updated Salary: $44000.00\n",
      "Employee: Charlie, Original Salary: $60000, Rating: 4, Updated Salary: $69000.00\n",
      "Employee: David, Original Salary: $35000, Rating: 2, Updated Salary: $36750.00\n",
      "Employee: Eve, Original Salary: $55000, Rating: 1, Updated Salary: $55000.00\n"
     ]
    }
   ],
   "source": [
    "# Task 15: Employee Salary Increment Calculator\n",
    "\n",
    "# Step 1: Define a function to calculate the salary increment\n",
    "def calculate_salary_increment(salary, rating): #This function calculates the salary increment based on the performance rating.\n",
    "    \"\"\"\n",
    "    :param salary: The current salary of the employee\n",
    "    :param rating: The performance rating (1 to 5)\n",
    "    :return: The updated salary after applying the increment\n",
    "    \"\"\"\n",
    "    # Define increment percentages based on ratings\n",
    "    if rating == 5:\n",
    "        increment_percentage = 20  # 20% increment for excellent performance\n",
    "    elif rating == 4:\n",
    "        increment_percentage = 15  # 15% increment for good performance\n",
    "    elif rating == 3:\n",
    "        increment_percentage = 10  # 10% increment for average performance\n",
    "    elif rating == 2:\n",
    "        increment_percentage = 5   # 5% increment for below-average performance\n",
    "    else:\n",
    "        increment_percentage = 0   # No increment for poor performance\n",
    "    \n",
    "    \n",
    "    increment_amount = (salary * increment_percentage) / 100 # Calculate the increment amount\n",
    "    \n",
    "    updated_salary = salary + increment_amount # Calculate the updated salary\n",
    "    return updated_salary\n",
    "\n",
    "# Step 2: Dictionary storing employee names and their performance ratings\n",
    "employees = {\n",
    "    \"Alice\": {\"salary\": 50000, \"rating\": 5},\n",
    "    \"Bob\": {\"salary\": 40000, \"rating\": 3},\n",
    "    \"Charlie\": {\"salary\": 60000, \"rating\": 4},\n",
    "    \"David\": {\"salary\": 35000, \"rating\": 2},\n",
    "    \"Eve\": {\"salary\": 55000, \"rating\": 1}\n",
    "}\n",
    "\n",
    "# Step 3: Calculate the updated salary for each employee\n",
    "for employee, details in employees.items():\n",
    "    \n",
    "    updated_salary = calculate_salary_increment(details[\"salary\"], details[\"rating\"]) # Calculate the updated salary based on rating\n",
    "    \n",
    "    # Print the updated salary for the employee\n",
    "    print(f\"Employee: {employee}, Original Salary: ${details['salary']}, Rating: {details['rating']}, Updated Salary: ${updated_salary:.2f}\")\n"
   ]
  },
  {
   "cell_type": "code",
   "execution_count": 1,
   "id": "cdc2ef37-28d1-492a-bb34-37d7f6540c67",
   "metadata": {},
   "outputs": [
    {
     "name": "stdout",
     "output_type": "stream",
     "text": [
      "Monthly sales report has been generated and saved to 'monthly_report.txt'.\n"
     ]
    }
   ],
   "source": [
    "# Task 16: Monthly Sales Report Generator\n",
    "\n",
    "import random\n",
    "\n",
    "# Step 1: Generate a list of daily sales for the month (30 days)\n",
    "# Let's assume daily sales values range from 100 to 1000 (in dollars or any currency unit)\n",
    "daily_sales = [random.randint(100, 1000) for _ in range(30)]\n",
    "\n",
    "# Step 2: Calculate the total sales for the month\n",
    "total_sales = sum(daily_sales)\n",
    "\n",
    "# Step 3: Calculate the average sales for the month\n",
    "average_sales = total_sales / len(daily_sales)\n",
    "\n",
    "# Step 4: Write the statistics to a text file named 'monthly_report.txt'\n",
    "with open('monthly_report.txt', 'w') as file:\n",
    "    file.write(\"Monthly Sales Report\\n\")\n",
    "    file.write(\"--------------------\\n\")\n",
    "    file.write(f\"Total Sales: ${total_sales}\\n\")\n",
    "    file.write(f\"Average Daily Sales: ${average_sales:.2f}\\n\")\n",
    "\n",
    "# Print confirmation that the file has been created\n",
    "print(\"Monthly sales report has been generated and saved to 'monthly_report.txt'.\")\n"
   ]
  },
  {
   "cell_type": "code",
   "execution_count": 3,
   "id": "2a59e0a8-520e-40df-8dd0-2735449f1912",
   "metadata": {},
   "outputs": [
    {
     "name": "stdout",
     "output_type": "stream",
     "text": [
      "The following products need replenishment:\n",
      "Product B\n",
      "Product C\n",
      "Product E\n"
     ]
    }
   ],
   "source": [
    "# Task 17: Stock Replenishment Planning\n",
    "\n",
    "# Step 1: List of products and their current stock levels\n",
    "products = [\n",
    "    {\"name\": \"Product A\", \"stock\": 50},\n",
    "    {\"name\": \"Product B\", \"stock\": 20},\n",
    "    {\"name\": \"Product C\", \"stock\": 5},\n",
    "    {\"name\": \"Product D\", \"stock\": 100},\n",
    "    {\"name\": \"Product E\", \"stock\": 0},\n",
    "]\n",
    "\n",
    "# Step 2: Define the threshold for each product\n",
    "thresholds = {\n",
    "    \"Product A\": 30,\n",
    "    \"Product B\": 25,\n",
    "    \"Product C\": 10,\n",
    "    \"Product D\": 50,\n",
    "    \"Product E\": 5,\n",
    "}\n",
    "\n",
    "# Step 3: Compare current stock levels with the threshold\n",
    "products_to_replenish = []\n",
    "\n",
    "for product in products:\n",
    "    product_name = product[\"name\"]\n",
    "    current_stock = product[\"stock\"]\n",
    "    threshold = thresholds.get(product_name, 0)  # Default threshold of 0 if not specified\n",
    "\n",
    "    if current_stock <= threshold:\n",
    "        products_to_replenish.append(product_name)\n",
    "\n",
    "# Step 4: Print the products that need to be reordered\n",
    "if products_to_replenish:\n",
    "    print(\"The following products need replenishment:\")\n",
    "    for product in products_to_replenish:\n",
    "        print(product)\n",
    "else:\n",
    "    print(\"No products need replenishment at the moment.\")\n"
   ]
  },
  {
   "cell_type": "code",
   "execution_count": 5,
   "id": "b066fa69-8629-4b21-9ce1-7053321b84bb",
   "metadata": {},
   "outputs": [
    {
     "name": "stdout",
     "output_type": "stream",
     "text": [
      "Cleaned Customer Names:\n",
      "John Doe\n",
      "Jane Doe\n",
      "Mary Smith\n",
      "Bob Johnson\n",
      "Alice Williams\n"
     ]
    }
   ],
   "source": [
    "#Task 18: Data Cleaning Utility\n",
    "\n",
    "# Step 1: Input list of customer names with extra spaces and inconsistent capitalization\n",
    "customer_names = [\n",
    "    \"  JOHN DOE   \",\n",
    "    \"   jane doe\",\n",
    "    \"  mARY SMITH  \",\n",
    "    \"  bOB Johnson  \",\n",
    "    \"alice WILLIAMS\"\n",
    "]\n",
    "\n",
    "# Step 2: Clean the names\n",
    "cleaned_names = []\n",
    "\n",
    "for name in customer_names: # Trim leading and trailing spaces and standardize capitalization\n",
    "    cleaned_name = name.strip().title()  # .strip() removes extra spaces, .title() capitalizes correctly\n",
    "    cleaned_names.append(cleaned_name)\n",
    "\n",
    "# Step 3: Print the cleaned names\n",
    "print(\"Cleaned Customer Names:\")\n",
    "for name in cleaned_names:\n",
    "    print(name)\n"
   ]
  },
  {
   "cell_type": "code",
   "execution_count": 7,
   "id": "30b48215-f9df-4362-941d-7228b31856c5",
   "metadata": {},
   "outputs": [
    {
     "name": "stdout",
     "output_type": "stream",
     "text": [
      "Forecasted Sales for Next Month: $10000.00\n"
     ]
    }
   ],
   "source": [
    "# Task 19: Simple Sales Forecasting\n",
    "\n",
    "# Step 1: Input sales data for the last 3 months\n",
    "sales_last_three_months = [10000, 6000, 14000]  # Example sales figures for the last 3 months\n",
    "\n",
    "# Step 2: Calculate the average sales for the last 3 months\n",
    "average_sales = sum(sales_last_three_months) / len(sales_last_three_months)\n",
    "\n",
    "# Step 3: Forecast next month's sales\n",
    "forecasted_sales = average_sales\n",
    "\n",
    "# Step 4: Print the forecasted sales for budget planning\n",
    "print(f\"Forecasted Sales for Next Month: ${forecasted_sales:.2f}\")\n"
   ]
  },
  {
   "cell_type": "code",
   "execution_count": 9,
   "id": "dde02b02-d476-4975-90cd-e49b13cfb820",
   "metadata": {},
   "outputs": [
    {
     "name": "stdout",
     "output_type": "stream",
     "text": [
      "Customer: Suresh Soman\n",
      "Total Purchase: $120\n",
      "Loyalty Points: 180.00\n",
      "------------------------------\n",
      "Customer: Sunil Soman\n",
      "Total Purchase: $450\n",
      "Loyalty Points: 675.00\n",
      "------------------------------\n",
      "Customer: Jimmy John\n",
      "Total Purchase: $25\n",
      "Loyalty Points: 25.00\n",
      "------------------------------\n",
      "Customer: Sunny Dhaman\n",
      "Total Purchase: $600\n",
      "Loyalty Points: 1200.00\n",
      "------------------------------\n",
      "Customer: Rajat Gupta\n",
      "Total Purchase: $200\n",
      "Loyalty Points: 300.00\n",
      "------------------------------\n"
     ]
    }
   ],
   "source": [
    "# Task 20: Customer Loyalty Points Calculator\n",
    "\n",
    "# Step 1: List of customers and their total purchase amount\n",
    "customers = [\n",
    "    {\"name\": \"Suresh Soman\", \"total_purchase\": 120},\n",
    "    {\"name\": \"Sunil Soman\", \"total_purchase\": 450},\n",
    "    {\"name\": \"Jimmy John\", \"total_purchase\": 25},\n",
    "    {\"name\": \"Sunny Dhaman\", \"total_purchase\": 600},\n",
    "    {\"name\": \"Rajat Gupta\", \"total_purchase\": 200}\n",
    "]\n",
    "\n",
    "# Step 2: Define the tiered system for loyalty points\n",
    "def calculate_loyalty_points(total_purchase):\n",
    "    if total_purchase < 100:\n",
    "        return total_purchase * 1  # 1 point per dollar\n",
    "    elif 100 <= total_purchase < 500:\n",
    "        return total_purchase * 1.5  # 1.5 points per dollar\n",
    "    else:\n",
    "        return total_purchase * 2  # 2 points per dollar\n",
    "\n",
    "# Step 3: Calculate and print the loyalty points for each customer\n",
    "for customer in customers:\n",
    "    name = customer[\"name\"]\n",
    "    total_purchase = customer[\"total_purchase\"]\n",
    "    loyalty_points = calculate_loyalty_points(total_purchase)\n",
    "    \n",
    "    print(f\"Customer: {name}\")\n",
    "    print(f\"Total Purchase: ${total_purchase}\")\n",
    "    print(f\"Loyalty Points: {loyalty_points:.2f}\")\n",
    "    print(\"-\" * 30)\n"
   ]
  },
  {
   "cell_type": "code",
   "execution_count": null,
   "id": "64151ce6-98c5-4b25-8004-dcfb0ac38e1e",
   "metadata": {},
   "outputs": [],
   "source": []
  }
 ],
 "metadata": {
  "kernelspec": {
   "display_name": "Python 3 (ipykernel)",
   "language": "python",
   "name": "python3"
  },
  "language_info": {
   "codemirror_mode": {
    "name": "ipython",
    "version": 3
   },
   "file_extension": ".py",
   "mimetype": "text/x-python",
   "name": "python",
   "nbconvert_exporter": "python",
   "pygments_lexer": "ipython3",
   "version": "3.12.4"
  }
 },
 "nbformat": 4,
 "nbformat_minor": 5
}
